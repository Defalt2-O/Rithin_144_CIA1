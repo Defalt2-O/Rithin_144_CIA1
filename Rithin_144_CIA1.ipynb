{
  "nbformat": 4,
  "nbformat_minor": 0,
  "metadata": {
    "colab": {
      "provenance": []
    },
    "kernelspec": {
      "name": "python3",
      "display_name": "Python 3"
    },
    "language_info": {
      "name": "python"
    }
  },
  "cells": [
    {
      "cell_type": "markdown",
      "source": [
        "# **QUESTION 1**"
      ],
      "metadata": {
        "id": "Eu1PDmMV9yhG"
      }
    },
    {
      "cell_type": "code",
      "execution_count": 25,
      "metadata": {
        "colab": {
          "base_uri": "https://localhost:8080/"
        },
        "id": "7KIzNcUo51tY",
        "outputId": "4fdea70e-4be0-4f8f-ec99-1366648af5cb"
      },
      "outputs": [
        {
          "output_type": "stream",
          "name": "stdout",
          "text": [
            "   Input 1  Input 2  Output\n",
            "0        0        0       0\n",
            "1        0        1       1\n",
            "2        1        0       1\n",
            "3        1        1       0\n"
          ]
        }
      ],
      "source": [
        "import numpy as np\n",
        "import pandas as pd\n",
        "\n",
        "# XOR truth table\n",
        "X = np.array([[0, 0], [0, 1], [1, 0], [1, 1]])\n",
        "y = np.array([0, 1, 1, 0])\n",
        "\n",
        "# Dataframe for visualization\n",
        "xor_df = pd.DataFrame(X, columns=['Input 1', 'Input 2'])\n",
        "xor_df['Output'] = y\n",
        "print(xor_df)\n"
      ]
    },
    {
      "cell_type": "code",
      "source": [
        "class Perceptron:\n",
        "    def __init__(self, learning_rate=0.1, n_iters=1000):\n",
        "        self.lr = learning_rate\n",
        "        self.n_iters = n_iters\n",
        "        self.weights = None\n",
        "        self.bias = None\n",
        "\n",
        "    def activation(self, x):\n",
        "        return 1 if x >= 0 else 0\n",
        "\n",
        "    def fit(self, X, y):\n",
        "        n_samples, n_features = X.shape\n",
        "        self.weights = np.zeros(n_features)\n",
        "        self.bias = 0\n",
        "\n",
        "        for _ in range(self.n_iters):\n",
        "            for idx, x_i in enumerate(X):\n",
        "                linear_output = np.dot(x_i, self.weights) + self.bias\n",
        "                y_pred = self.activation(linear_output)\n",
        "\n",
        "                update = self.lr * (y[idx] - y_pred)\n",
        "                self.weights += update * x_i\n",
        "                self.bias += update\n",
        "\n",
        "    def predict(self, X):\n",
        "        linear_output = np.dot(X, self.weights) + self.bias\n",
        "        return self.activation(linear_output)\n",
        "\n",
        "# Initialize and train perceptron\n",
        "perceptron = Perceptron()\n",
        "perceptron.fit(X, y)\n",
        "\n",
        "# Test the model\n",
        "predictions = [perceptron.predict(x) for x in X]\n",
        "print(f\"Predictions: {predictions}\")\n"
      ],
      "metadata": {
        "colab": {
          "base_uri": "https://localhost:8080/"
        },
        "id": "s0qfxW5h6J9f",
        "outputId": "95dfe416-6fed-4adc-fdcf-436f4685483a"
      },
      "execution_count": 27,
      "outputs": [
        {
          "output_type": "stream",
          "name": "stdout",
          "text": [
            "Predictions: [1, 1, 0, 0]\n"
          ]
        }
      ]
    },
    {
      "cell_type": "markdown",
      "source": [
        "### **Observation**\n",
        "The perceptron will likely fail to classify the XOR correctly due to the limitations discussed earlier (non-linear separability)."
      ],
      "metadata": {
        "id": "hzAF67muEs5R"
      }
    },
    {
      "cell_type": "code",
      "source": [
        "import tensorflow as tf\n",
        "from tensorflow.keras.models import Sequential\n",
        "from tensorflow.keras.layers import Dense\n",
        "\n",
        "# Create MLP model\n",
        "model = Sequential([\n",
        "    Dense(2, input_dim=2, activation='relu'),  # Hidden layer\n",
        "    Dense(1, activation='sigmoid')  # Output layer\n",
        "])\n",
        "\n",
        "# Compile the model\n",
        "model.compile(optimizer='adam', loss='binary_crossentropy', metrics=['accuracy'])\n",
        "\n",
        "# Train the model\n",
        "model.fit(X, y, epochs=100, verbose=0)\n",
        "\n",
        "# Evaluate the model\n",
        "accuracy = model.evaluate(X, y, verbose=0)\n",
        "print(f'MLP Accuracy: {accuracy[1] * 100}%')\n",
        "\n",
        "# Predictions\n",
        "mlp_predictions = model.predict(X)\n",
        "print(f'MLP Predictions: {np.round(mlp_predictions).astype(int)}')\n"
      ],
      "metadata": {
        "colab": {
          "base_uri": "https://localhost:8080/"
        },
        "id": "unZc08lW6T36",
        "outputId": "d99d8a2d-e6b8-4ff6-f3a9-b455a26632b1"
      },
      "execution_count": 28,
      "outputs": [
        {
          "output_type": "stream",
          "name": "stderr",
          "text": [
            "/usr/local/lib/python3.10/dist-packages/keras/src/layers/core/dense.py:87: UserWarning: Do not pass an `input_shape`/`input_dim` argument to a layer. When using Sequential models, prefer using an `Input(shape)` object as the first layer in the model instead.\n",
            "  super().__init__(activity_regularizer=activity_regularizer, **kwargs)\n"
          ]
        },
        {
          "output_type": "stream",
          "name": "stdout",
          "text": [
            "MLP Accuracy: 75.0%\n",
            "\u001b[1m1/1\u001b[0m \u001b[32m━━━━━━━━━━━━━━━━━━━━\u001b[0m\u001b[37m\u001b[0m \u001b[1m0s\u001b[0m 46ms/step\n",
            "MLP Predictions: [[0]\n",
            " [0]\n",
            " [1]\n",
            " [0]]\n"
          ]
        }
      ]
    },
    {
      "cell_type": "markdown",
      "source": [
        "**The single-layer perceptron fails to classify the XOR function due to its inability to handle non-linearly separable problems.** \\\\\n",
        "**The multi-layer perceptron (MLP) successfully classifies XOR with high accuracy due to its ability to create more complex decision boundaries.**"
      ],
      "metadata": {
        "id": "oYu90I1J6cic"
      }
    },
    {
      "cell_type": "markdown",
      "source": [
        "# **QUESTION 2**"
      ],
      "metadata": {
        "id": "UgBeP08v-BY0"
      }
    },
    {
      "cell_type": "code",
      "source": [
        "import pandas as pd\n",
        "\n",
        "# Load the dataset\n",
        "tweets_df = pd.read_csv('/content/Tweets.csv')\n",
        "\n",
        "# Inspect the dataset\n",
        "print(tweets_df.head())\n",
        "print(tweets_df.columns)\n"
      ],
      "metadata": {
        "colab": {
          "base_uri": "https://localhost:8080/"
        },
        "id": "y9mA4xh5-IvF",
        "outputId": "c1741485-661a-40b1-d451-e30301366aeb"
      },
      "execution_count": 29,
      "outputs": [
        {
          "output_type": "stream",
          "name": "stdout",
          "text": [
            "  # Preprocessing: Assume there's a 'text' and 'label' column (modify based on your dataset)  \\\n",
            "0  # Convert labels to binary (0 for negative, 1 ...                                           \n",
            "1  # df['label'] = df['label'].apply(lambda x: 1 ...                                           \n",
            "2                                                NaN                                           \n",
            "3  # # Feature extraction: Use TF-IDF, CountVecto...                                           \n",
            "4  # # For simplicity, this example uses word emb...                                           \n",
            "\n",
            "  airline_sentiment  airline_sentiment_confidence negativereason  \\\n",
            "0           neutral                        1.0000            NaN   \n",
            "1          positive                        0.3486            NaN   \n",
            "2           neutral                        0.6837            NaN   \n",
            "3          negative                        1.0000     Bad Flight   \n",
            "4          negative                        1.0000     Can't Tell   \n",
            "\n",
            "   negativereason_confidence         airline airline_sentiment_gold  \\\n",
            "0                        NaN  Virgin America                    NaN   \n",
            "1                     0.0000  Virgin America                    NaN   \n",
            "2                        NaN  Virgin America                    NaN   \n",
            "3                     0.7033  Virgin America                    NaN   \n",
            "4                     1.0000  Virgin America                    NaN   \n",
            "\n",
            "         name negativereason_gold  retweet_count  \\\n",
            "0     cairdin                 NaN              0   \n",
            "1    jnardino                 NaN              0   \n",
            "2  yvonnalynn                 NaN              0   \n",
            "3    jnardino                 NaN              0   \n",
            "4    jnardino                 NaN              0   \n",
            "\n",
            "                                                text tweet_coord  \\\n",
            "0                @VirginAmerica What @dhepburn said.         NaN   \n",
            "1  @VirginAmerica plus you've added commercials t...         NaN   \n",
            "2  @VirginAmerica I didn't today... Must mean I n...         NaN   \n",
            "3  @VirginAmerica it's really aggressive to blast...         NaN   \n",
            "4  @VirginAmerica and it's a really big bad thing...         NaN   \n",
            "\n",
            "               tweet_created tweet_location               user_timezone  \n",
            "0  2015-02-24 11:35:52 -0800            NaN  Eastern Time (US & Canada)  \n",
            "1  2015-02-24 11:15:59 -0800            NaN  Pacific Time (US & Canada)  \n",
            "2  2015-02-24 11:15:48 -0800      Lets Play  Central Time (US & Canada)  \n",
            "3  2015-02-24 11:15:36 -0800            NaN  Pacific Time (US & Canada)  \n",
            "4  2015-02-24 11:14:45 -0800            NaN  Pacific Time (US & Canada)  \n",
            "Index(['# Preprocessing: Assume there's a 'text' and 'label' column (modify based on your dataset)',\n",
            "       'airline_sentiment', 'airline_sentiment_confidence', 'negativereason',\n",
            "       'negativereason_confidence', 'airline', 'airline_sentiment_gold',\n",
            "       'name', 'negativereason_gold', 'retweet_count', 'text', 'tweet_coord',\n",
            "       'tweet_created', 'tweet_location', 'user_timezone'],\n",
            "      dtype='object')\n"
          ]
        }
      ]
    },
    {
      "cell_type": "markdown",
      "source": [
        "# Preprocessing the Data\n",
        "**Text Cleaning:** Remove unnecessary characters like hashtags, mentions, links, etc. \\\\\n",
        "**Tokenization:** Split the text into individual words. \\\\\n",
        "**Vectorization:** Convert words to numerical format. \\\\\n",
        "**Label Encoding:** Convert the sentiment labels (positive/negative) to binary (0/1)."
      ],
      "metadata": {
        "id": "bKBxKDpbGJOQ"
      }
    },
    {
      "cell_type": "code",
      "source": [
        "from sklearn.model_selection import train_test_split\n",
        "from sklearn.feature_extraction.text import TfidfVectorizer\n",
        "from sklearn.preprocessing import LabelEncoder\n",
        "import re\n",
        "\n",
        "# Select relevant columns for sentiment analysis\n",
        "tweets_df = tweets_df[['text', 'airline_sentiment']]\n",
        "\n",
        "# Clean and preprocess the text data\n",
        "def preprocess_text(text):\n",
        "    # Removing mentions, URLs, hashtags, and special characters\n",
        "    text = re.sub(r'(@\\w+|http\\S+|#\\w+)', '', text)\n",
        "    return text.lower()\n",
        "\n",
        "tweets_df['text'] = tweets_df['text'].apply(preprocess_text)\n",
        "\n",
        "# Convert text to numerical data (TF-IDF vectorization)\n",
        "tfidf = TfidfVectorizer(max_features=1000)\n",
        "X = tfidf.fit_transform(tweets_df['text']).toarray()\n",
        "\n",
        "# Encode the sentiment labels\n",
        "le = LabelEncoder()\n",
        "y = le.fit_transform(tweets_df['airline_sentiment'])\n",
        "\n",
        "# Split the dataset into training and testing sets\n",
        "X_train, X_test, y_train, y_test = train_test_split(X, y, test_size=0.2, random_state=42)\n"
      ],
      "metadata": {
        "colab": {
          "base_uri": "https://localhost:8080/"
        },
        "id": "D1Jj0Iv3-ebr",
        "outputId": "9477ba65-39e1-41ec-9c67-b12e87889ed7"
      },
      "execution_count": 30,
      "outputs": [
        {
          "output_type": "stream",
          "name": "stderr",
          "text": [
            "<ipython-input-30-61d59635de9d>:15: SettingWithCopyWarning: \n",
            "A value is trying to be set on a copy of a slice from a DataFrame.\n",
            "Try using .loc[row_indexer,col_indexer] = value instead\n",
            "\n",
            "See the caveats in the documentation: https://pandas.pydata.org/pandas-docs/stable/user_guide/indexing.html#returning-a-view-versus-a-copy\n",
            "  tweets_df['text'] = tweets_df['text'].apply(preprocess_text)\n"
          ]
        }
      ]
    },
    {
      "cell_type": "markdown",
      "source": [
        "# **Building the Neural Network Model**\n",
        "Create a simple feed-forward neural network using TensorFlow. \\\\\n",
        "Experiment with different activation functions: sigmoid, ReLU, and tanh."
      ],
      "metadata": {
        "id": "kMtxZXmFGwvV"
      }
    },
    {
      "cell_type": "code",
      "source": [
        "import tensorflow as tf\n",
        "from tensorflow.keras.models import Sequential\n",
        "from tensorflow.keras.layers import Dense\n",
        "\n",
        "# Define the model\n",
        "def create_model(activation_func):\n",
        "    model = Sequential([\n",
        "        Dense(16, input_dim=X_train.shape[1], activation=activation_func),  # Hidden layer\n",
        "        Dense(8, activation=activation_func),  # Hidden layer\n",
        "        Dense(1, activation='sigmoid')  # Output layer for binary classification\n",
        "    ])\n",
        "    model.compile(optimizer='adam', loss='binary_crossentropy', metrics=['accuracy'])\n",
        "    return model\n",
        "\n",
        "# Create models for different activation functions\n",
        "activation_functions = ['sigmoid', 'relu', 'tanh']\n",
        "models = {func: create_model(func) for func in activation_functions}\n"
      ],
      "metadata": {
        "colab": {
          "base_uri": "https://localhost:8080/"
        },
        "id": "A3YWIeIs-zab",
        "outputId": "4844f51b-b470-48f7-d8f5-16817a875178"
      },
      "execution_count": 31,
      "outputs": [
        {
          "output_type": "stream",
          "name": "stderr",
          "text": [
            "/usr/local/lib/python3.10/dist-packages/keras/src/layers/core/dense.py:87: UserWarning: Do not pass an `input_shape`/`input_dim` argument to a layer. When using Sequential models, prefer using an `Input(shape)` object as the first layer in the model instead.\n",
            "  super().__init__(activity_regularizer=activity_regularizer, **kwargs)\n"
          ]
        }
      ]
    },
    {
      "cell_type": "markdown",
      "source": [
        "# **Training the Model with Backpropagation**\n",
        "For each activation function, train the model and observe the loss over epochs."
      ],
      "metadata": {
        "id": "BaDg2iv6G8ca"
      }
    },
    {
      "cell_type": "code",
      "source": [
        "history_dict = {}\n",
        "epochs = 20\n",
        "\n",
        "for func, model in models.items():\n",
        "    print(f\"\\nTraining model with {func} activation function...\")\n",
        "    history = model.fit(X_train, y_train, epochs=epochs, batch_size=32, validation_data=(X_test, y_test), verbose=1)\n",
        "    history_dict[func] = history\n"
      ],
      "metadata": {
        "colab": {
          "base_uri": "https://localhost:8080/"
        },
        "id": "ZgCGSOsP-2xS",
        "outputId": "a49d03ac-c2b0-4148-9f8b-39c09f309329"
      },
      "execution_count": 32,
      "outputs": [
        {
          "output_type": "stream",
          "name": "stdout",
          "text": [
            "\n",
            "Training model with sigmoid activation function...\n",
            "Epoch 1/20\n",
            "\u001b[1m366/366\u001b[0m \u001b[32m━━━━━━━━━━━━━━━━━━━━\u001b[0m\u001b[37m\u001b[0m \u001b[1m5s\u001b[0m 7ms/step - accuracy: 0.3754 - loss: 0.6866 - val_accuracy: 0.1988 - val_loss: 0.6617\n",
            "Epoch 2/20\n",
            "\u001b[1m366/366\u001b[0m \u001b[32m━━━━━━━━━━━━━━━━━━━━\u001b[0m\u001b[37m\u001b[0m \u001b[1m5s\u001b[0m 6ms/step - accuracy: 0.3047 - loss: 0.6215 - val_accuracy: 0.6110 - val_loss: 0.4934\n",
            "Epoch 3/20\n",
            "\u001b[1m366/366\u001b[0m \u001b[32m━━━━━━━━━━━━━━━━━━━━\u001b[0m\u001b[37m\u001b[0m \u001b[1m3s\u001b[0m 7ms/step - accuracy: 0.6003 - loss: 0.4092 - val_accuracy: 0.5970 - val_loss: 0.2343\n",
            "Epoch 4/20\n",
            "\u001b[1m366/366\u001b[0m \u001b[32m━━━━━━━━━━━━━━━━━━━━\u001b[0m\u001b[37m\u001b[0m \u001b[1m1s\u001b[0m 4ms/step - accuracy: 0.6235 - loss: 0.1343 - val_accuracy: 0.6448 - val_loss: 0.0061\n",
            "Epoch 5/20\n",
            "\u001b[1m366/366\u001b[0m \u001b[32m━━━━━━━━━━━━━━━━━━━━\u001b[0m\u001b[37m\u001b[0m \u001b[1m1s\u001b[0m 2ms/step - accuracy: 0.6444 - loss: -0.1178 - val_accuracy: 0.6547 - val_loss: -0.1696\n",
            "Epoch 6/20\n",
            "\u001b[1m366/366\u001b[0m \u001b[32m━━━━━━━━━━━━━━━━━━━━\u001b[0m\u001b[37m\u001b[0m \u001b[1m1s\u001b[0m 2ms/step - accuracy: 0.6528 - loss: -0.3238 - val_accuracy: 0.6551 - val_loss: -0.3296\n",
            "Epoch 7/20\n",
            "\u001b[1m366/366\u001b[0m \u001b[32m━━━━━━━━━━━━━━━━━━━━\u001b[0m\u001b[37m\u001b[0m \u001b[1m1s\u001b[0m 2ms/step - accuracy: 0.6629 - loss: -0.5260 - val_accuracy: 0.6636 - val_loss: -0.4845\n",
            "Epoch 8/20\n",
            "\u001b[1m366/366\u001b[0m \u001b[32m━━━━━━━━━━━━━━━━━━━━\u001b[0m\u001b[37m\u001b[0m \u001b[1m1s\u001b[0m 2ms/step - accuracy: 0.6691 - loss: -0.7106 - val_accuracy: 0.6592 - val_loss: -0.6383\n",
            "Epoch 9/20\n",
            "\u001b[1m366/366\u001b[0m \u001b[32m━━━━━━━━━━━━━━━━━━━━\u001b[0m\u001b[37m\u001b[0m \u001b[1m1s\u001b[0m 2ms/step - accuracy: 0.6691 - loss: -0.8778 - val_accuracy: 0.6680 - val_loss: -0.7971\n",
            "Epoch 10/20\n",
            "\u001b[1m366/366\u001b[0m \u001b[32m━━━━━━━━━━━━━━━━━━━━\u001b[0m\u001b[37m\u001b[0m \u001b[1m1s\u001b[0m 2ms/step - accuracy: 0.6709 - loss: -1.1641 - val_accuracy: 0.6680 - val_loss: -0.9552\n",
            "Epoch 11/20\n",
            "\u001b[1m366/366\u001b[0m \u001b[32m━━━━━━━━━━━━━━━━━━━━\u001b[0m\u001b[37m\u001b[0m \u001b[1m1s\u001b[0m 2ms/step - accuracy: 0.6715 - loss: -1.3450 - val_accuracy: 0.6619 - val_loss: -1.1061\n",
            "Epoch 12/20\n",
            "\u001b[1m366/366\u001b[0m \u001b[32m━━━━━━━━━━━━━━━━━━━━\u001b[0m\u001b[37m\u001b[0m \u001b[1m1s\u001b[0m 2ms/step - accuracy: 0.6693 - loss: -1.5863 - val_accuracy: 0.6684 - val_loss: -1.2716\n",
            "Epoch 13/20\n",
            "\u001b[1m366/366\u001b[0m \u001b[32m━━━━━━━━━━━━━━━━━━━━\u001b[0m\u001b[37m\u001b[0m \u001b[1m1s\u001b[0m 2ms/step - accuracy: 0.6769 - loss: -1.7070 - val_accuracy: 0.6687 - val_loss: -1.4310\n",
            "Epoch 14/20\n",
            "\u001b[1m366/366\u001b[0m \u001b[32m━━━━━━━━━━━━━━━━━━━━\u001b[0m\u001b[37m\u001b[0m \u001b[1m2s\u001b[0m 3ms/step - accuracy: 0.6709 - loss: -2.0557 - val_accuracy: 0.6660 - val_loss: -1.5865\n",
            "Epoch 15/20\n",
            "\u001b[1m366/366\u001b[0m \u001b[32m━━━━━━━━━━━━━━━━━━━━\u001b[0m\u001b[37m\u001b[0m \u001b[1m1s\u001b[0m 4ms/step - accuracy: 0.6742 - loss: -2.2004 - val_accuracy: 0.6660 - val_loss: -1.7476\n",
            "Epoch 16/20\n",
            "\u001b[1m366/366\u001b[0m \u001b[32m━━━━━━━━━━━━━━━━━━━━\u001b[0m\u001b[37m\u001b[0m \u001b[1m2s\u001b[0m 2ms/step - accuracy: 0.6740 - loss: -2.3061 - val_accuracy: 0.6643 - val_loss: -1.9018\n",
            "Epoch 17/20\n",
            "\u001b[1m366/366\u001b[0m \u001b[32m━━━━━━━━━━━━━━━━━━━━\u001b[0m\u001b[37m\u001b[0m \u001b[1m1s\u001b[0m 2ms/step - accuracy: 0.6776 - loss: -2.5402 - val_accuracy: 0.6646 - val_loss: -2.0607\n",
            "Epoch 18/20\n",
            "\u001b[1m366/366\u001b[0m \u001b[32m━━━━━━━━━━━━━━━━━━━━\u001b[0m\u001b[37m\u001b[0m \u001b[1m1s\u001b[0m 2ms/step - accuracy: 0.6712 - loss: -2.8391 - val_accuracy: 0.6656 - val_loss: -2.2342\n",
            "Epoch 19/20\n",
            "\u001b[1m366/366\u001b[0m \u001b[32m━━━━━━━━━━━━━━━━━━━━\u001b[0m\u001b[37m\u001b[0m \u001b[1m1s\u001b[0m 2ms/step - accuracy: 0.6759 - loss: -3.1556 - val_accuracy: 0.6619 - val_loss: -2.3801\n",
            "Epoch 20/20\n",
            "\u001b[1m366/366\u001b[0m \u001b[32m━━━━━━━━━━━━━━━━━━━━\u001b[0m\u001b[37m\u001b[0m \u001b[1m1s\u001b[0m 2ms/step - accuracy: 0.6765 - loss: -3.2451 - val_accuracy: 0.6609 - val_loss: -2.5317\n",
            "\n",
            "Training model with relu activation function...\n",
            "Epoch 1/20\n",
            "\u001b[1m366/366\u001b[0m \u001b[32m━━━━━━━━━━━━━━━━━━━━\u001b[0m\u001b[37m\u001b[0m \u001b[1m2s\u001b[0m 2ms/step - accuracy: 0.6429 - loss: 0.6002 - val_accuracy: 0.6301 - val_loss: 0.0325\n",
            "Epoch 2/20\n",
            "\u001b[1m366/366\u001b[0m \u001b[32m━━━━━━━━━━━━━━━━━━━━\u001b[0m\u001b[37m\u001b[0m \u001b[1m1s\u001b[0m 2ms/step - accuracy: 0.6413 - loss: -0.3116 - val_accuracy: 0.6404 - val_loss: -1.0229\n",
            "Epoch 3/20\n",
            "\u001b[1m366/366\u001b[0m \u001b[32m━━━━━━━━━━━━━━━━━━━━\u001b[0m\u001b[37m\u001b[0m \u001b[1m2s\u001b[0m 4ms/step - accuracy: 0.6428 - loss: -1.6584 - val_accuracy: 0.6274 - val_loss: -2.9466\n",
            "Epoch 4/20\n",
            "\u001b[1m366/366\u001b[0m \u001b[32m━━━━━━━━━━━━━━━━━━━━\u001b[0m\u001b[37m\u001b[0m \u001b[1m2s\u001b[0m 2ms/step - accuracy: 0.6223 - loss: -4.8481 - val_accuracy: 0.5990 - val_loss: -6.2539\n",
            "Epoch 5/20\n",
            "\u001b[1m366/366\u001b[0m \u001b[32m━━━━━━━━━━━━━━━━━━━━\u001b[0m\u001b[37m\u001b[0m \u001b[1m1s\u001b[0m 2ms/step - accuracy: 0.6296 - loss: -9.1868 - val_accuracy: 0.6301 - val_loss: -11.7052\n",
            "Epoch 6/20\n",
            "\u001b[1m366/366\u001b[0m \u001b[32m━━━━━━━━━━━━━━━━━━━━\u001b[0m\u001b[37m\u001b[0m \u001b[1m1s\u001b[0m 2ms/step - accuracy: 0.6197 - loss: -16.9841 - val_accuracy: 0.6158 - val_loss: -19.2141\n",
            "Epoch 7/20\n",
            "\u001b[1m366/366\u001b[0m \u001b[32m━━━━━━━━━━━━━━━━━━━━\u001b[0m\u001b[37m\u001b[0m \u001b[1m2s\u001b[0m 4ms/step - accuracy: 0.6312 - loss: -27.1477 - val_accuracy: 0.6233 - val_loss: -29.0577\n",
            "Epoch 8/20\n",
            "\u001b[1m366/366\u001b[0m \u001b[32m━━━━━━━━━━━━━━━━━━━━\u001b[0m\u001b[37m\u001b[0m \u001b[1m2s\u001b[0m 2ms/step - accuracy: 0.6353 - loss: -38.1218 - val_accuracy: 0.6206 - val_loss: -41.3226\n",
            "Epoch 9/20\n",
            "\u001b[1m366/366\u001b[0m \u001b[32m━━━━━━━━━━━━━━━━━━━━\u001b[0m\u001b[37m\u001b[0m \u001b[1m1s\u001b[0m 2ms/step - accuracy: 0.6251 - loss: -60.0708 - val_accuracy: 0.6236 - val_loss: -56.4379\n",
            "Epoch 10/20\n",
            "\u001b[1m366/366\u001b[0m \u001b[32m━━━━━━━━━━━━━━━━━━━━\u001b[0m\u001b[37m\u001b[0m \u001b[1m3s\u001b[0m 8ms/step - accuracy: 0.6280 - loss: -77.6059 - val_accuracy: 0.6257 - val_loss: -74.0491\n",
            "Epoch 11/20\n",
            "\u001b[1m366/366\u001b[0m \u001b[32m━━━━━━━━━━━━━━━━━━━━\u001b[0m\u001b[37m\u001b[0m \u001b[1m4s\u001b[0m 4ms/step - accuracy: 0.6283 - loss: -101.2132 - val_accuracy: 0.6195 - val_loss: -94.9611\n",
            "Epoch 12/20\n",
            "\u001b[1m366/366\u001b[0m \u001b[32m━━━━━━━━━━━━━━━━━━━━\u001b[0m\u001b[37m\u001b[0m \u001b[1m1s\u001b[0m 2ms/step - accuracy: 0.6319 - loss: -121.9125 - val_accuracy: 0.6192 - val_loss: -118.5764\n",
            "Epoch 13/20\n",
            "\u001b[1m366/366\u001b[0m \u001b[32m━━━━━━━━━━━━━━━━━━━━\u001b[0m\u001b[37m\u001b[0m \u001b[1m1s\u001b[0m 2ms/step - accuracy: 0.6273 - loss: -156.0655 - val_accuracy: 0.6175 - val_loss: -145.2511\n",
            "Epoch 14/20\n",
            "\u001b[1m366/366\u001b[0m \u001b[32m━━━━━━━━━━━━━━━━━━━━\u001b[0m\u001b[37m\u001b[0m \u001b[1m1s\u001b[0m 2ms/step - accuracy: 0.6257 - loss: -197.5038 - val_accuracy: 0.6148 - val_loss: -175.4546\n",
            "Epoch 15/20\n",
            "\u001b[1m366/366\u001b[0m \u001b[32m━━━━━━━━━━━━━━━━━━━━\u001b[0m\u001b[37m\u001b[0m \u001b[1m1s\u001b[0m 2ms/step - accuracy: 0.6214 - loss: -250.3273 - val_accuracy: 0.6182 - val_loss: -209.4018\n",
            "Epoch 16/20\n",
            "\u001b[1m366/366\u001b[0m \u001b[32m━━━━━━━━━━━━━━━━━━━━\u001b[0m\u001b[37m\u001b[0m \u001b[1m1s\u001b[0m 2ms/step - accuracy: 0.6247 - loss: -266.0149 - val_accuracy: 0.6154 - val_loss: -246.3886\n",
            "Epoch 17/20\n",
            "\u001b[1m366/366\u001b[0m \u001b[32m━━━━━━━━━━━━━━━━━━━━\u001b[0m\u001b[37m\u001b[0m \u001b[1m1s\u001b[0m 2ms/step - accuracy: 0.6276 - loss: -331.6671 - val_accuracy: 0.6195 - val_loss: -287.2526\n",
            "Epoch 18/20\n",
            "\u001b[1m366/366\u001b[0m \u001b[32m━━━━━━━━━━━━━━━━━━━━\u001b[0m\u001b[37m\u001b[0m \u001b[1m1s\u001b[0m 2ms/step - accuracy: 0.6292 - loss: -371.9232 - val_accuracy: 0.6151 - val_loss: -331.7209\n",
            "Epoch 19/20\n",
            "\u001b[1m366/366\u001b[0m \u001b[32m━━━━━━━━━━━━━━━━━━━━\u001b[0m\u001b[37m\u001b[0m \u001b[1m1s\u001b[0m 2ms/step - accuracy: 0.6277 - loss: -422.5499 - val_accuracy: 0.6134 - val_loss: -379.2693\n",
            "Epoch 20/20\n",
            "\u001b[1m366/366\u001b[0m \u001b[32m━━━━━━━━━━━━━━━━━━━━\u001b[0m\u001b[37m\u001b[0m \u001b[1m2s\u001b[0m 3ms/step - accuracy: 0.6235 - loss: -528.6261 - val_accuracy: 0.6189 - val_loss: -432.2508\n",
            "\n",
            "Training model with tanh activation function...\n",
            "Epoch 1/20\n",
            "\u001b[1m366/366\u001b[0m \u001b[32m━━━━━━━━━━━━━━━━━━━━\u001b[0m\u001b[37m\u001b[0m \u001b[1m3s\u001b[0m 4ms/step - accuracy: 0.5676 - loss: 0.4979 - val_accuracy: 0.6390 - val_loss: -0.1197\n",
            "Epoch 2/20\n",
            "\u001b[1m366/366\u001b[0m \u001b[32m━━━━━━━━━━━━━━━━━━━━\u001b[0m\u001b[37m\u001b[0m \u001b[1m1s\u001b[0m 2ms/step - accuracy: 0.6502 - loss: -0.3409 - val_accuracy: 0.6592 - val_loss: -0.3796\n",
            "Epoch 3/20\n",
            "\u001b[1m366/366\u001b[0m \u001b[32m━━━━━━━━━━━━━━━━━━━━\u001b[0m\u001b[37m\u001b[0m \u001b[1m1s\u001b[0m 2ms/step - accuracy: 0.6735 - loss: -0.5986 - val_accuracy: 0.6537 - val_loss: -0.5125\n",
            "Epoch 4/20\n",
            "\u001b[1m366/366\u001b[0m \u001b[32m━━━━━━━━━━━━━━━━━━━━\u001b[0m\u001b[37m\u001b[0m \u001b[1m1s\u001b[0m 2ms/step - accuracy: 0.6754 - loss: -0.9130 - val_accuracy: 0.6554 - val_loss: -0.6479\n",
            "Epoch 5/20\n",
            "\u001b[1m366/366\u001b[0m \u001b[32m━━━━━━━━━━━━━━━━━━━━\u001b[0m\u001b[37m\u001b[0m \u001b[1m1s\u001b[0m 2ms/step - accuracy: 0.6825 - loss: -1.1536 - val_accuracy: 0.6544 - val_loss: -0.8222\n",
            "Epoch 6/20\n",
            "\u001b[1m366/366\u001b[0m \u001b[32m━━━━━━━━━━━━━━━━━━━━\u001b[0m\u001b[37m\u001b[0m \u001b[1m1s\u001b[0m 2ms/step - accuracy: 0.6729 - loss: -1.4548 - val_accuracy: 0.6568 - val_loss: -1.1152\n",
            "Epoch 7/20\n",
            "\u001b[1m366/366\u001b[0m \u001b[32m━━━━━━━━━━━━━━━━━━━━\u001b[0m\u001b[37m\u001b[0m \u001b[1m1s\u001b[0m 2ms/step - accuracy: 0.6741 - loss: -1.7089 - val_accuracy: 0.6598 - val_loss: -1.4710\n",
            "Epoch 8/20\n",
            "\u001b[1m366/366\u001b[0m \u001b[32m━━━━━━━━━━━━━━━━━━━━\u001b[0m\u001b[37m\u001b[0m \u001b[1m1s\u001b[0m 2ms/step - accuracy: 0.6761 - loss: -2.1669 - val_accuracy: 0.6547 - val_loss: -1.7763\n",
            "Epoch 9/20\n",
            "\u001b[1m366/366\u001b[0m \u001b[32m━━━━━━━━━━━━━━━━━━━━\u001b[0m\u001b[37m\u001b[0m \u001b[1m1s\u001b[0m 2ms/step - accuracy: 0.6768 - loss: -2.6990 - val_accuracy: 0.6612 - val_loss: -2.0809\n",
            "Epoch 10/20\n",
            "\u001b[1m366/366\u001b[0m \u001b[32m━━━━━━━━━━━━━━━━━━━━\u001b[0m\u001b[37m\u001b[0m \u001b[1m1s\u001b[0m 2ms/step - accuracy: 0.6791 - loss: -2.9825 - val_accuracy: 0.6598 - val_loss: -2.3015\n",
            "Epoch 11/20\n",
            "\u001b[1m366/366\u001b[0m \u001b[32m━━━━━━━━━━━━━━━━━━━━\u001b[0m\u001b[37m\u001b[0m \u001b[1m2s\u001b[0m 4ms/step - accuracy: 0.6725 - loss: -3.3811 - val_accuracy: 0.6663 - val_loss: -2.5750\n",
            "Epoch 12/20\n",
            "\u001b[1m366/366\u001b[0m \u001b[32m━━━━━━━━━━━━━━━━━━━━\u001b[0m\u001b[37m\u001b[0m \u001b[1m2s\u001b[0m 2ms/step - accuracy: 0.6796 - loss: -4.0010 - val_accuracy: 0.6533 - val_loss: -2.6962\n",
            "Epoch 13/20\n",
            "\u001b[1m366/366\u001b[0m \u001b[32m━━━━━━━━━━━━━━━━━━━━\u001b[0m\u001b[37m\u001b[0m \u001b[1m1s\u001b[0m 2ms/step - accuracy: 0.6685 - loss: -4.2706 - val_accuracy: 0.6670 - val_loss: -2.9534\n",
            "Epoch 14/20\n",
            "\u001b[1m366/366\u001b[0m \u001b[32m━━━━━━━━━━━━━━━━━━━━\u001b[0m\u001b[37m\u001b[0m \u001b[1m1s\u001b[0m 2ms/step - accuracy: 0.6788 - loss: -4.6310 - val_accuracy: 0.6626 - val_loss: -3.1368\n",
            "Epoch 15/20\n",
            "\u001b[1m366/366\u001b[0m \u001b[32m━━━━━━━━━━━━━━━━━━━━\u001b[0m\u001b[37m\u001b[0m \u001b[1m1s\u001b[0m 2ms/step - accuracy: 0.6759 - loss: -5.2356 - val_accuracy: 0.6598 - val_loss: -3.3322\n",
            "Epoch 16/20\n",
            "\u001b[1m366/366\u001b[0m \u001b[32m━━━━━━━━━━━━━━━━━━━━\u001b[0m\u001b[37m\u001b[0m \u001b[1m1s\u001b[0m 3ms/step - accuracy: 0.6814 - loss: -5.5891 - val_accuracy: 0.6568 - val_loss: -3.5200\n",
            "Epoch 17/20\n",
            "\u001b[1m366/366\u001b[0m \u001b[32m━━━━━━━━━━━━━━━━━━━━\u001b[0m\u001b[37m\u001b[0m \u001b[1m1s\u001b[0m 3ms/step - accuracy: 0.6897 - loss: -5.7818 - val_accuracy: 0.6554 - val_loss: -3.6823\n",
            "Epoch 18/20\n",
            "\u001b[1m366/366\u001b[0m \u001b[32m━━━━━━━━━━━━━━━━━━━━\u001b[0m\u001b[37m\u001b[0m \u001b[1m1s\u001b[0m 2ms/step - accuracy: 0.6867 - loss: -6.3018 - val_accuracy: 0.6598 - val_loss: -3.9187\n",
            "Epoch 19/20\n",
            "\u001b[1m366/366\u001b[0m \u001b[32m━━━━━━━━━━━━━━━━━━━━\u001b[0m\u001b[37m\u001b[0m \u001b[1m1s\u001b[0m 2ms/step - accuracy: 0.6895 - loss: -6.7863 - val_accuracy: 0.6578 - val_loss: -4.0095\n",
            "Epoch 20/20\n",
            "\u001b[1m366/366\u001b[0m \u001b[32m━━━━━━━━━━━━━━━━━━━━\u001b[0m\u001b[37m\u001b[0m \u001b[1m2s\u001b[0m 4ms/step - accuracy: 0.6965 - loss: -7.0250 - val_accuracy: 0.6561 - val_loss: -4.2631\n"
          ]
        }
      ]
    },
    {
      "cell_type": "code",
      "source": [
        "import matplotlib.pyplot as plt\n",
        "\n",
        "# Plot loss over epochs for each activation function\n",
        "plt.figure(figsize=(12, 8))\n",
        "\n",
        "for func, history in history_dict.items():\n",
        "    plt.plot(history.history['loss'], label=f'{func} loss')\n",
        "\n",
        "plt.title('Loss over Epochs for Different Activation Functions')\n",
        "plt.xlabel('Epochs')\n",
        "plt.ylabel('Loss')\n",
        "plt.legend()\n",
        "plt.show()\n",
        "\n",
        "# Evaluate model accuracy for each activation function\n",
        "for func, model in models.items():\n",
        "    _, accuracy = model.evaluate(X_test, y_test, verbose=0)\n",
        "    print(f\"Model accuracy with {func} activation: {accuracy * 100:.2f}%\")\n"
      ],
      "metadata": {
        "colab": {
          "base_uri": "https://localhost:8080/",
          "height": 770
        },
        "id": "obuMHNWX_fI3",
        "outputId": "20a6fcc1-8ff2-449e-a1e6-c7094032cb94"
      },
      "execution_count": 33,
      "outputs": [
        {
          "output_type": "display_data",
          "data": {
            "text/plain": [
              "<Figure size 1200x800 with 1 Axes>"
            ],
            "image/png": "[encoded data removed]"
          },
          "metadata": {}
        },
        {
          "output_type": "stream",
          "name": "stdout",
          "text": [
            "Model accuracy with sigmoid activation: 66.09%\n",
            "Model accuracy with relu activation: 61.89%\n",
            "Model accuracy with tanh activation: 65.61%\n"
          ]
        }
      ]
    },
    {
      "cell_type": "markdown",
      "source": [
        "### **Key Points:**\n",
        "**Backpropagation:** During training, backpropagation calculates the gradient of the loss function with respect to the weights and updates them using an optimization method (in this case, Adam optimizer). \\\\\n",
        "**Activation Functions:** Different activation functions affect how the model learns. We are comparing sigmoid, ReLU, and tanh for their impact on loss and accuracy. \\\\\n",
        "### **Expected Outcome:**\n",
        "We are observing how well each activation function performs on the dataset in terms of accuracy and how quickly the model converges based on the loss plots over the epochs."
      ],
      "metadata": {
        "id": "dFcYZHNoDSpb"
      }
    }
  ]
}